{
 "cells": [
  {
   "cell_type": "code",
   "execution_count": 10,
   "metadata": {
    "collapsed": true
   },
   "outputs": [],
   "source": [
    "%matplotlib inline\n",
    "import numpy as np\n",
    "import pandas as pd\n",
    "import scipy\n",
    "import sklearn\n",
    "import matplotlib.pyplot as plt\n",
    "import seaborn as sns"
   ]
  },
  {
   "cell_type": "code",
   "execution_count": 11,
   "metadata": {
    "collapsed": true
   },
   "outputs": [],
   "source": [
    "# Grab and process the raw data.\n",
    "data_path = (\"https://raw.githubusercontent.com/Thinkful-Ed/data-201-resources/\"\n",
    "             \"master/sms_spam_collection/SMSSpamCollection\"\n",
    "            )\n",
    "sms_raw = pd.read_csv(data_path, delimiter= '\\t', header=None)\n",
    "sms_raw.columns = ['spam', 'message']"
   ]
  },
  {
   "cell_type": "code",
   "execution_count": 12,
   "metadata": {
    "collapsed": true
   },
   "outputs": [],
   "source": [
    "keywords = ['click', 'chosen', 'urgent', 'free', 'buy', 'cash', 'horny', 'weird', '4U']\n",
    "for key in keywords:\n",
    "    sms_raw[str(key)] = sms_raw.message.str.contains(\n",
    "    (' ' + key + ' '), case=False\n",
    "    )"
   ]
  },
  {
   "cell_type": "code",
   "execution_count": 13,
   "metadata": {
    "collapsed": true
   },
   "outputs": [],
   "source": [
    "sms_raw['spam'] = np.where((sms_raw.spam == 'spam'), True, False)"
   ]
  },
  {
   "cell_type": "code",
   "execution_count": null,
   "metadata": {},
   "outputs": [],
   "source": []
  },
  {
   "cell_type": "code",
   "execution_count": 14,
   "metadata": {
    "collapsed": true
   },
   "outputs": [],
   "source": [
    "sms_raw['allcaps'] = sms_raw.message.str.isupper()"
   ]
  },
  {
   "cell_type": "code",
   "execution_count": 15,
   "metadata": {},
   "outputs": [
    {
     "data": {
      "text/plain": [
       "<matplotlib.axes._subplots.AxesSubplot at 0x7f6df52c8710>"
      ]
     },
     "execution_count": 15,
     "metadata": {},
     "output_type": "execute_result"
    },
    {
     "data": {
      "image/png": "[encoded data removed]",
      "text/plain": [
       "<matplotlib.figure.Figure at 0x7f6df52c18d0>"
      ]
     },
     "metadata": {},
     "output_type": "display_data"
    }
   ],
   "source": [
    "sns.heatmap(sms_raw.corr())"
   ]
  },
  {
   "cell_type": "code",
   "execution_count": 16,
   "metadata": {
    "collapsed": true
   },
   "outputs": [],
   "source": [
    "data = sms_raw[keywords + ['allcaps']]\n",
    "target = sms_raw['spam']"
   ]
  },
  {
   "cell_type": "code",
   "execution_count": 17,
   "metadata": {},
   "outputs": [
    {
     "name": "stdout",
     "output_type": "stream",
     "text": [
      "number of mislabeled points out of total 5572 points: 604\n"
     ]
    }
   ],
   "source": [
    "from sklearn.naive_bayes import BernoulliNB\n",
    "bnb = BernoulliNB()\n",
    "bnb.fit(data, target)\n",
    "y_pred = bnb.predict(data)\n",
    "\n",
    "print('number of mislabeled points out of total {} points: {}'.format(data.shape[0], (target != y_pred).sum()))"
   ]
  },
  {
   "cell_type": "code",
   "execution_count": 18,
   "metadata": {},
   "outputs": [
    {
     "name": "stdout",
     "output_type": "stream",
     "text": [
      "sensitivity is: 0.2597054886211513\n",
      "specificity is: 0.9894300518134715\n",
      "              predicted false  predicted true\n",
      "actual_false             4774             553\n",
      "actual_true                51             194\n"
     ]
    }
   ],
   "source": [
    "# Calculate the accuracy of your model here.\n",
    "trained = bnb.fit(data, target)\n",
    "correct = np.where((trained.predict(data) == target), True, False)\n",
    "len(correct[correct==True])/len(correct)\n",
    "\n",
    "\n",
    "\n",
    "# Build your confusion matrix and calculate sensitivity and specificity here.\n",
    "predicted_spam = trained.predict(data)\n",
    "true_positives = np.where((np.where((sms_raw.spam == True), True, None) == predicted_spam), True, False)\n",
    "false_positives = np.where((np.where((sms_raw.spam == False), True, None) == predicted_spam), True, False)\n",
    "true_negatives = np.where((np.where((sms_raw.spam == False), False, None) == predicted_spam), True, False)\n",
    "false_negatives = np.where((np.where((sms_raw.spam == True), False, None) == predicted_spam), True, False)\n",
    "num_true_positives = true_positives.sum()\n",
    "total_positives = sms_raw.spam.sum()\n",
    "num_true_negatives = true_negatives.sum()\n",
    "total_negatives = len(sms_raw.spam) - total_positives\n",
    "\n",
    "print('sensitivity is: {}'.format(num_true_positives/total_positives))\n",
    "print('specificity is: {}'.format(num_true_negatives/total_negatives))\n",
    "conf_matrix = pd.DataFrame(index=['actual_false', 'actual_true'], columns=['predicted false', 'predicted true'])\n",
    "conf_matrix.loc['actual_true'] = [false_positives.sum(), num_true_positives]\n",
    "conf_matrix.loc['actual_false'] = [num_true_negatives, false_negatives.sum()]\n",
    "print(conf_matrix)"
   ]
  }
 ],
 "metadata": {
  "kernelspec": {
   "display_name": "Python 3",
   "language": "python",
   "name": "python3"
  },
  "language_info": {
   "codemirror_mode": {
    "name": "ipython",
    "version": 3
   },
   "file_extension": ".py",
   "mimetype": "text/x-python",
   "name": "python",
   "nbconvert_exporter": "python",
   "pygments_lexer": "ipython3",
   "version": "3.6.1"
  }
 },
 "nbformat": 4,
 "nbformat_minor": 2
}
